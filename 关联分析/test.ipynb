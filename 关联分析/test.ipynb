{
 "cells": [
  {
   "cell_type": "code",
   "execution_count": 30,
   "metadata": {},
   "outputs": [],
   "source": [
    "def multiply_lists(list1, list2):\n",
    "    # 检查列表长度是否相等\n",
    "    if len(list1) != len(list2):\n",
    "        raise ValueError(\"两个列表长度必须相等\")\n",
    "    \n",
    "    # 使用列表推导式实现按位相乘\n",
    "    result = [x * y for x, y in zip(list1, list2)]\n",
    "    return result"
   ]
  },
  {
   "cell_type": "code",
   "execution_count": 31,
   "metadata": {},
   "outputs": [
    {
     "name": "stdout",
     "output_type": "stream",
     "text": [
      "[0.0715, 0.0715, 0.0715, 0.0715, 0.0715, 0.0715, 0.1666, 0.1666, 0.1666, 0.0715]\n",
      "[0.1, 0.1, 0.1, 0.1, 0.1, 0.1, 0.1, 0.1, 0.1, 0.1]\n"
     ]
    }
   ],
   "source": [
    "x=[0,1,2,3,4,5,6,7,8,9]\n",
    "y=[1,1,1,-1,-1,-1,1,1,1,-1]\n",
    "weight_0=[0.1]*10\n",
    "weight_1=[0.0715]*6+[0.1666]*3+[0.0715]\n",
    "weight_2=[0.0455, 0.0455, 0.0455, 0.1667, 0.1667, 0.1667, 0.1060, 0.1060, 0.1060, 0.0455]\n",
    "print(weight_1)\n",
    "print(weight_0)\n"
   ]
  },
  {
   "cell_type": "code",
   "execution_count": 32,
   "metadata": {},
   "outputs": [
    {
     "name": "stdout",
     "output_type": "stream",
     "text": [
      "0.30000000000000004\n"
     ]
    }
   ],
   "source": [
    "def calculate(x,t):\n",
    "    ans=[]\n",
    "    for i in x:\n",
    "        if i<t:\n",
    "            ans.append(1)\n",
    "        else :\n",
    "            ans.append(-1)\n",
    "    return ans\n",
    "    \n",
    "def err_rate(ans,y,weight):\n",
    "    err=0\n",
    "    for i in range(len(ans)):\n",
    "        if ans[i]!=y[i]:\n",
    "            err+=weight[i]*1\n",
    "\n",
    "    \n",
    "    return err\n",
    "\n",
    "\n",
    "a=calculate(x,2.5)\n",
    "rate=err_rate(a,y,weight_0)\n",
    "print(rate)\n",
    "\n"
   ]
  },
  {
   "cell_type": "code",
   "execution_count": 40,
   "metadata": {},
   "outputs": [
    {
     "name": "stdout",
     "output_type": "stream",
     "text": [
      "0 0.409\n",
      "1 0.3635\n",
      "2 0.318\n",
      "3 0.48469999999999996\n",
      "4 0.6514\n",
      "5 0.8180999999999999\n",
      "6 0.7121\n",
      "7 0.6061\n",
      "8 0.5001\n",
      "9 0.5456\n"
     ]
    }
   ],
   "source": [
    "import numpy as np\n",
    "def split(x,y,weight):\n",
    "    err_rate_list = []\n",
    "    for num in np.arange(0.5, len(x), 1.0):\n",
    "        ans = calculate(x, num)\n",
    "        err_rate_list.append(err_rate(ans,y,weight))\n",
    "    return err_rate_list\n",
    "a=split(x,y,weight_2)\n",
    "for i,t in enumerate(a):\n",
    "    print(i,t)\n"
   ]
  },
  {
   "cell_type": "code",
   "execution_count": 34,
   "metadata": {},
   "outputs": [
    {
     "data": {
      "text/plain": [
       "1.0003"
      ]
     },
     "execution_count": 34,
     "metadata": {},
     "output_type": "execute_result"
    }
   ],
   "source": [
    "0.0715*7+0.1666*3"
   ]
  }
 ],
 "metadata": {
  "kernelspec": {
   "display_name": "dataanlyse",
   "language": "python",
   "name": "python3"
  },
  "language_info": {
   "codemirror_mode": {
    "name": "ipython",
    "version": 3
   },
   "file_extension": ".py",
   "mimetype": "text/x-python",
   "name": "python",
   "nbconvert_exporter": "python",
   "pygments_lexer": "ipython3",
   "version": "3.11.9"
  }
 },
 "nbformat": 4,
 "nbformat_minor": 2
}
